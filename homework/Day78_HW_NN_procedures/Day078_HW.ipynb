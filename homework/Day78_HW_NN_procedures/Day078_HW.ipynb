{
 "cells": [
  {
   "cell_type": "markdown",
   "metadata": {},
   "source": [
    "## Work\n",
    "1. 請嘗試將 preproc_x 替換成以每筆資料的 min/max 進行標準化至 -1 ~ 1 間，再進行訓練\n",
    "2. 請嘗試將 mlp 疊更深 (e.g 5~10 層)，進行訓練後觀察 learning curve 的走勢\n",
    "3. (optional) 請改用 GPU 進行訓練 (如果你有 GPU 的話)，比較使用 CPU 與 GPU 的訓練速度"
   ]
  },
  {
   "cell_type": "code",
   "execution_count": 1,
   "metadata": {},
   "outputs": [],
   "source": [
    "## \n",
    "\"\"\"\n",
    "Your code here (optional)\n",
    "確認硬體資源\n",
    "\"\"\"\n"
   ]
  },
  {
   "cell_type": "code",
   "execution_count": 1,
   "metadata": {},
   "outputs": [
    {
     "name": "stderr",
     "output_type": "stream",
     "text": [
      "Using TensorFlow backend.\n"
     ]
    }
   ],
   "source": [
    "import os\n",
    "import keras\n",
    "\n",
    "# 請嘗試設定 GPU：os.environ\n"
   ]
  },
  {
   "cell_type": "code",
   "execution_count": 2,
   "metadata": {},
   "outputs": [],
   "source": [
    "train, test = keras.datasets.cifar10.load_data()"
   ]
  },
  {
   "cell_type": "code",
   "execution_count": 3,
   "metadata": {},
   "outputs": [],
   "source": [
    "## 資料前處理\n",
    "\"\"\"\n",
    "Your code here\n",
    "\"\"\"\n",
    "def preproc_x():\n",
    "    pass\n",
    "\n",
    "def preproc_y():\n",
    "    pass\n",
    "\n",
    "def preproc_x(x, flatten=True):\n",
    "    x = x / 255.\n",
    "    if flatten:\n",
    "        x = x.reshape((len(x), -1))\n",
    "    return x\n",
    "\n",
    "def preproc_y(y, num_classes=10):\n",
    "    if y.shape[-1] == 1:\n",
    "        y = keras.utils.to_categorical(y, num_classes)\n",
    "    return y    "
   ]
  },
  {
   "cell_type": "code",
   "execution_count": 6,
   "metadata": {},
   "outputs": [],
   "source": [
    "x_train, y_train = train\n",
    "x_test, y_test = test\n",
    "\n",
    "# Preproc the inputs\n",
    "x_train = preproc_x(x_train)\n",
    "x_test = preproc_x(x_test)\n",
    "\n",
    "# Preprc the outputs\n",
    "y_train = preproc_y(y_train)\n",
    "y_test = preproc_y(y_test)\n"
   ]
  },
  {
   "cell_type": "code",
   "execution_count": 8,
   "metadata": {},
   "outputs": [
    {
     "name": "stderr",
     "output_type": "stream",
     "text": [
      "WARNING: Logging before flag parsing goes to stderr.\n",
      "W0721 23:35:19.757971 4613023168 deprecation_wrapper.py:119] From /Users/pmpmpm/anaconda3/lib/python3.7/site-packages/keras/backend/tensorflow_backend.py:74: The name tf.get_default_graph is deprecated. Please use tf.compat.v1.get_default_graph instead.\n",
      "\n",
      "W0721 23:35:19.792271 4613023168 deprecation_wrapper.py:119] From /Users/pmpmpm/anaconda3/lib/python3.7/site-packages/keras/backend/tensorflow_backend.py:517: The name tf.placeholder is deprecated. Please use tf.compat.v1.placeholder instead.\n",
      "\n",
      "W0721 23:35:19.797533 4613023168 deprecation_wrapper.py:119] From /Users/pmpmpm/anaconda3/lib/python3.7/site-packages/keras/backend/tensorflow_backend.py:4138: The name tf.random_uniform is deprecated. Please use tf.random.uniform instead.\n",
      "\n"
     ]
    },
    {
     "name": "stdout",
     "output_type": "stream",
     "text": [
      "_________________________________________________________________\n",
      "Layer (type)                 Output Shape              Param #   \n",
      "=================================================================\n",
      "input_1 (InputLayer)         (None, 3072)              0         \n",
      "_________________________________________________________________\n",
      "hidden_layer1 (Dense)        (None, 512)               1573376   \n",
      "_________________________________________________________________\n",
      "hidden_layer2 (Dense)        (None, 256)               131328    \n",
      "_________________________________________________________________\n",
      "hidden_layer3 (Dense)        (None, 128)               32896     \n",
      "_________________________________________________________________\n",
      "hidden_layer4 (Dense)        (None, 64)                8256      \n",
      "_________________________________________________________________\n",
      "hidden_layer5 (Dense)        (None, 32)                2080      \n",
      "_________________________________________________________________\n",
      "output (Dense)               (None, 10)                330       \n",
      "=================================================================\n",
      "Total params: 1,748,266\n",
      "Trainable params: 1,748,266\n",
      "Non-trainable params: 0\n",
      "_________________________________________________________________\n"
     ]
    }
   ],
   "source": [
    "\"\"\"Code Here\n",
    "建立你的神經網路\n",
    "\"\"\"\n",
    "def build_mlp(input_shape, output_units=10, num_neurons=[512, 256, 128, 64, 32]):\n",
    "    input_layer = keras.layers.Input(input_shape)\n",
    "    \n",
    "    for i, n_units in enumerate(num_neurons):\n",
    "        if i == 0:\n",
    "            x = keras.layers.Dense(units=n_units, activation=\"relu\", name=\"hidden_layer\"+str(i+1))(input_layer)\n",
    "        else:\n",
    "            x = keras.layers.Dense(units=n_units, activation=\"relu\", name=\"hidden_layer\"+str(i+1))(x)\n",
    "    \n",
    "    out = keras.layers.Dense(units=output_units, activation=\"softmax\", name=\"output\")(x)\n",
    "    \n",
    "    model = keras.models.Model(inputs=[input_layer], outputs=[out])\n",
    "    return model\n",
    "model = build_mlp(input_shape=x_train.shape[1:])\n",
    "model.summary()"
   ]
  },
  {
   "cell_type": "code",
   "execution_count": 9,
   "metadata": {},
   "outputs": [],
   "source": [
    "## 超參數設定\n",
    "LEARNING_RATE = 0.001\n",
    "EPOCHS = 100\n",
    "BATCH_SIZE = 256"
   ]
  },
  {
   "cell_type": "code",
   "execution_count": 10,
   "metadata": {},
   "outputs": [
    {
     "name": "stderr",
     "output_type": "stream",
     "text": [
      "W0721 23:35:26.047415 4613023168 deprecation_wrapper.py:119] From /Users/pmpmpm/anaconda3/lib/python3.7/site-packages/keras/optimizers.py:790: The name tf.train.Optimizer is deprecated. Please use tf.compat.v1.train.Optimizer instead.\n",
      "\n",
      "W0721 23:35:26.064351 4613023168 deprecation_wrapper.py:119] From /Users/pmpmpm/anaconda3/lib/python3.7/site-packages/keras/backend/tensorflow_backend.py:3295: The name tf.log is deprecated. Please use tf.math.log instead.\n",
      "\n"
     ]
    }
   ],
   "source": [
    "optimizer = keras.optimizers.Adam(lr=LEARNING_RATE)\n",
    "model.compile(loss=\"categorical_crossentropy\", metrics=[\"accuracy\"], optimizer=optimizer)"
   ]
  },
  {
   "cell_type": "code",
   "execution_count": 11,
   "metadata": {},
   "outputs": [
    {
     "name": "stderr",
     "output_type": "stream",
     "text": [
      "W0721 23:35:27.223871 4613023168 deprecation.py:323] From /Users/pmpmpm/anaconda3/lib/python3.7/site-packages/tensorflow/python/ops/math_grad.py:1250: add_dispatch_support.<locals>.wrapper (from tensorflow.python.ops.array_ops) is deprecated and will be removed in a future version.\n",
      "Instructions for updating:\n",
      "Use tf.where in 2.0, which has the same broadcast rule as np.where\n",
      "W0721 23:35:27.421694 4613023168 deprecation_wrapper.py:119] From /Users/pmpmpm/anaconda3/lib/python3.7/site-packages/keras/backend/tensorflow_backend.py:986: The name tf.assign_add is deprecated. Please use tf.compat.v1.assign_add instead.\n",
      "\n"
     ]
    },
    {
     "name": "stdout",
     "output_type": "stream",
     "text": [
      "Train on 50000 samples, validate on 10000 samples\n",
      "Epoch 1/100\n",
      "50000/50000 [==============================] - 9s 179us/step - loss: 2.0186 - acc: 0.2529 - val_loss: 1.8826 - val_acc: 0.3215\n",
      "Epoch 2/100\n",
      "50000/50000 [==============================] - 10s 201us/step - loss: 1.7585 - acc: 0.3612 - val_loss: 1.7012 - val_acc: 0.3974\n",
      "Epoch 3/100\n",
      "50000/50000 [==============================] - 9s 189us/step - loss: 1.6619 - acc: 0.4018 - val_loss: 1.6494 - val_acc: 0.4106\n",
      "Epoch 4/100\n",
      "50000/50000 [==============================] - 10s 197us/step - loss: 1.6026 - acc: 0.4250 - val_loss: 1.5517 - val_acc: 0.4447\n",
      "Epoch 5/100\n",
      "50000/50000 [==============================] - 11s 215us/step - loss: 1.5374 - acc: 0.4493 - val_loss: 1.5343 - val_acc: 0.4504\n",
      "Epoch 6/100\n",
      "50000/50000 [==============================] - 11s 217us/step - loss: 1.4981 - acc: 0.4649 - val_loss: 1.5227 - val_acc: 0.4534\n",
      "Epoch 7/100\n",
      "50000/50000 [==============================] - 13s 256us/step - loss: 1.4634 - acc: 0.4772 - val_loss: 1.5064 - val_acc: 0.4707\n",
      "Epoch 8/100\n",
      "50000/50000 [==============================] - 12s 232us/step - loss: 1.4324 - acc: 0.4904 - val_loss: 1.4751 - val_acc: 0.4775\n",
      "Epoch 9/100\n",
      "50000/50000 [==============================] - 11s 216us/step - loss: 1.4030 - acc: 0.4995 - val_loss: 1.4594 - val_acc: 0.4811\n",
      "Epoch 10/100\n",
      "50000/50000 [==============================] - 9s 171us/step - loss: 1.3776 - acc: 0.5068 - val_loss: 1.4382 - val_acc: 0.4881\n",
      "Epoch 11/100\n",
      "50000/50000 [==============================] - 9s 181us/step - loss: 1.3595 - acc: 0.5134 - val_loss: 1.4578 - val_acc: 0.4829\n",
      "Epoch 12/100\n",
      "50000/50000 [==============================] - 8s 163us/step - loss: 1.3238 - acc: 0.5281 - val_loss: 1.4493 - val_acc: 0.4819\n",
      "Epoch 13/100\n",
      "50000/50000 [==============================] - 10s 193us/step - loss: 1.3006 - acc: 0.5367 - val_loss: 1.4172 - val_acc: 0.5010\n",
      "Epoch 14/100\n",
      "50000/50000 [==============================] - 10s 203us/step - loss: 1.2771 - acc: 0.5436 - val_loss: 1.3916 - val_acc: 0.5057\n",
      "Epoch 15/100\n",
      "50000/50000 [==============================] - 8s 163us/step - loss: 1.2553 - acc: 0.5522 - val_loss: 1.4024 - val_acc: 0.4937\n",
      "Epoch 16/100\n",
      "50000/50000 [==============================] - 9s 178us/step - loss: 1.2401 - acc: 0.5575 - val_loss: 1.3931 - val_acc: 0.5047\n",
      "Epoch 17/100\n",
      "50000/50000 [==============================] - 9s 182us/step - loss: 1.2173 - acc: 0.5646 - val_loss: 1.4229 - val_acc: 0.5076\n",
      "Epoch 18/100\n",
      "50000/50000 [==============================] - 10s 192us/step - loss: 1.1937 - acc: 0.5750 - val_loss: 1.4474 - val_acc: 0.4859\n",
      "Epoch 19/100\n",
      "50000/50000 [==============================] - 11s 217us/step - loss: 1.1790 - acc: 0.5780 - val_loss: 1.3579 - val_acc: 0.5200\n",
      "Epoch 20/100\n",
      "50000/50000 [==============================] - 11s 210us/step - loss: 1.1658 - acc: 0.5810 - val_loss: 1.3506 - val_acc: 0.5259\n",
      "Epoch 21/100\n",
      "50000/50000 [==============================] - 10s 208us/step - loss: 1.1331 - acc: 0.5952 - val_loss: 1.4222 - val_acc: 0.5064\n",
      "Epoch 22/100\n",
      "50000/50000 [==============================] - 10s 203us/step - loss: 1.1264 - acc: 0.5975 - val_loss: 1.3611 - val_acc: 0.5255\n",
      "Epoch 23/100\n",
      "50000/50000 [==============================] - 10s 194us/step - loss: 1.1004 - acc: 0.6051 - val_loss: 1.3607 - val_acc: 0.5242\n",
      "Epoch 24/100\n",
      "50000/50000 [==============================] - 9s 173us/step - loss: 1.0767 - acc: 0.6153 - val_loss: 1.4158 - val_acc: 0.5079\n",
      "Epoch 25/100\n",
      "50000/50000 [==============================] - 8s 154us/step - loss: 1.0602 - acc: 0.6225 - val_loss: 1.4025 - val_acc: 0.5191\n",
      "Epoch 26/100\n",
      "50000/50000 [==============================] - 8s 155us/step - loss: 1.0379 - acc: 0.6290 - val_loss: 1.3765 - val_acc: 0.5304\n",
      "Epoch 27/100\n",
      "50000/50000 [==============================] - 8s 160us/step - loss: 1.0218 - acc: 0.6363 - val_loss: 1.4776 - val_acc: 0.5021\n",
      "Epoch 28/100\n",
      "50000/50000 [==============================] - 8s 163us/step - loss: 1.0098 - acc: 0.6388 - val_loss: 1.3928 - val_acc: 0.5232\n",
      "Epoch 29/100\n",
      "50000/50000 [==============================] - 8s 161us/step - loss: 0.9872 - acc: 0.6474 - val_loss: 1.3972 - val_acc: 0.5247\n",
      "Epoch 30/100\n",
      "50000/50000 [==============================] - 8s 160us/step - loss: 0.9700 - acc: 0.6529 - val_loss: 1.4465 - val_acc: 0.5184\n",
      "Epoch 31/100\n",
      "50000/50000 [==============================] - 8s 164us/step - loss: 0.9529 - acc: 0.6580 - val_loss: 1.4278 - val_acc: 0.5250\n",
      "Epoch 32/100\n",
      "50000/50000 [==============================] - 8s 156us/step - loss: 0.9466 - acc: 0.6616 - val_loss: 1.4351 - val_acc: 0.5321\n",
      "Epoch 33/100\n",
      "50000/50000 [==============================] - 8s 160us/step - loss: 0.9271 - acc: 0.6656 - val_loss: 1.5299 - val_acc: 0.5103\n",
      "Epoch 34/100\n",
      "50000/50000 [==============================] - 8s 157us/step - loss: 0.9004 - acc: 0.6768 - val_loss: 1.4559 - val_acc: 0.5220\n",
      "Epoch 35/100\n",
      "50000/50000 [==============================] - 8s 159us/step - loss: 0.8817 - acc: 0.6832 - val_loss: 1.4583 - val_acc: 0.5337\n",
      "Epoch 36/100\n",
      "50000/50000 [==============================] - 8s 158us/step - loss: 0.8672 - acc: 0.6931 - val_loss: 1.5017 - val_acc: 0.5279\n",
      "Epoch 37/100\n",
      "50000/50000 [==============================] - 8s 160us/step - loss: 0.8512 - acc: 0.6959 - val_loss: 1.5186 - val_acc: 0.5208\n",
      "Epoch 38/100\n",
      "50000/50000 [==============================] - 8s 167us/step - loss: 0.8393 - acc: 0.6994 - val_loss: 1.5281 - val_acc: 0.5177\n",
      "Epoch 39/100\n",
      "50000/50000 [==============================] - 9s 180us/step - loss: 0.8190 - acc: 0.7050 - val_loss: 1.5354 - val_acc: 0.5191\n",
      "Epoch 40/100\n",
      "50000/50000 [==============================] - 10s 198us/step - loss: 0.8021 - acc: 0.7119 - val_loss: 1.5776 - val_acc: 0.5271\n",
      "Epoch 41/100\n",
      "50000/50000 [==============================] - 8s 152us/step - loss: 0.7937 - acc: 0.7155 - val_loss: 1.7033 - val_acc: 0.5023\n",
      "Epoch 42/100\n",
      "50000/50000 [==============================] - 10s 203us/step - loss: 0.7854 - acc: 0.7168 - val_loss: 1.6017 - val_acc: 0.5220\n",
      "Epoch 43/100\n",
      "50000/50000 [==============================] - 12s 243us/step - loss: 0.7628 - acc: 0.7268 - val_loss: 1.6143 - val_acc: 0.5270\n",
      "Epoch 44/100\n",
      "50000/50000 [==============================] - 9s 186us/step - loss: 0.7371 - acc: 0.7362 - val_loss: 1.6431 - val_acc: 0.5293\n",
      "Epoch 45/100\n",
      "50000/50000 [==============================] - 8s 162us/step - loss: 0.7386 - acc: 0.7353 - val_loss: 1.6839 - val_acc: 0.5194\n",
      "Epoch 46/100\n",
      "50000/50000 [==============================] - 8s 159us/step - loss: 0.7219 - acc: 0.7396 - val_loss: 1.6731 - val_acc: 0.5210\n",
      "Epoch 47/100\n",
      "50000/50000 [==============================] - 9s 177us/step - loss: 0.7045 - acc: 0.7484 - val_loss: 1.6774 - val_acc: 0.5252\n",
      "Epoch 48/100\n",
      "50000/50000 [==============================] - 10s 191us/step - loss: 0.6982 - acc: 0.7498 - val_loss: 1.7391 - val_acc: 0.5199\n",
      "Epoch 49/100\n",
      "50000/50000 [==============================] - 9s 182us/step - loss: 0.6921 - acc: 0.7509 - val_loss: 1.7306 - val_acc: 0.5252\n",
      "Epoch 50/100\n",
      "50000/50000 [==============================] - 8s 153us/step - loss: 0.6753 - acc: 0.7579 - val_loss: 1.7830 - val_acc: 0.5153\n",
      "Epoch 51/100\n",
      "50000/50000 [==============================] - 8s 154us/step - loss: 0.6604 - acc: 0.7604 - val_loss: 1.7829 - val_acc: 0.5214\n",
      "Epoch 52/100\n",
      "50000/50000 [==============================] - 10s 199us/step - loss: 0.6720 - acc: 0.7607 - val_loss: 1.8062 - val_acc: 0.5170\n",
      "Epoch 53/100\n",
      "50000/50000 [==============================] - 10s 197us/step - loss: 0.6337 - acc: 0.7717 - val_loss: 1.8120 - val_acc: 0.5131\n",
      "Epoch 54/100\n",
      "50000/50000 [==============================] - 9s 180us/step - loss: 0.6385 - acc: 0.7705 - val_loss: 1.8337 - val_acc: 0.5140\n",
      "Epoch 55/100\n",
      "50000/50000 [==============================] - 9s 173us/step - loss: 0.6109 - acc: 0.7788 - val_loss: 1.8429 - val_acc: 0.5159\n",
      "Epoch 56/100\n",
      "50000/50000 [==============================] - 10s 207us/step - loss: 0.6018 - acc: 0.7841 - val_loss: 1.8883 - val_acc: 0.5217\n",
      "Epoch 57/100\n",
      "50000/50000 [==============================] - 9s 175us/step - loss: 0.5929 - acc: 0.7867 - val_loss: 1.9630 - val_acc: 0.5180\n",
      "Epoch 58/100\n",
      "50000/50000 [==============================] - 9s 178us/step - loss: 0.6015 - acc: 0.7821 - val_loss: 1.8854 - val_acc: 0.5225\n",
      "Epoch 59/100\n"
     ]
    },
    {
     "name": "stdout",
     "output_type": "stream",
     "text": [
      "50000/50000 [==============================] - 9s 182us/step - loss: 0.5921 - acc: 0.7871 - val_loss: 2.0350 - val_acc: 0.4996\n",
      "Epoch 60/100\n",
      "50000/50000 [==============================] - 10s 190us/step - loss: 0.5686 - acc: 0.7949 - val_loss: 1.9765 - val_acc: 0.5206\n",
      "Epoch 61/100\n",
      "50000/50000 [==============================] - 10s 199us/step - loss: 0.5604 - acc: 0.7979 - val_loss: 1.9855 - val_acc: 0.5212\n",
      "Epoch 62/100\n",
      "50000/50000 [==============================] - 13s 266us/step - loss: 0.5450 - acc: 0.8042 - val_loss: 2.0843 - val_acc: 0.4984\n",
      "Epoch 63/100\n",
      "50000/50000 [==============================] - 9s 178us/step - loss: 0.5494 - acc: 0.8015 - val_loss: 2.0878 - val_acc: 0.5103\n",
      "Epoch 64/100\n",
      "50000/50000 [==============================] - 9s 173us/step - loss: 0.5150 - acc: 0.8133 - val_loss: 2.1078 - val_acc: 0.5070\n",
      "Epoch 65/100\n",
      "50000/50000 [==============================] - 9s 173us/step - loss: 0.5248 - acc: 0.8128 - val_loss: 2.0702 - val_acc: 0.5099\n",
      "Epoch 66/100\n",
      "50000/50000 [==============================] - 9s 176us/step - loss: 0.5220 - acc: 0.8108 - val_loss: 2.1395 - val_acc: 0.5149\n",
      "Epoch 67/100\n",
      "50000/50000 [==============================] - 9s 178us/step - loss: 0.5013 - acc: 0.8205 - val_loss: 2.1409 - val_acc: 0.5114\n",
      "Epoch 68/100\n",
      "50000/50000 [==============================] - 9s 175us/step - loss: 0.4969 - acc: 0.8225 - val_loss: 2.1561 - val_acc: 0.5058\n",
      "Epoch 69/100\n",
      "50000/50000 [==============================] - 9s 176us/step - loss: 0.4977 - acc: 0.8212 - val_loss: 2.1769 - val_acc: 0.5102\n",
      "Epoch 70/100\n",
      "50000/50000 [==============================] - 9s 172us/step - loss: 0.4703 - acc: 0.8301 - val_loss: 2.1974 - val_acc: 0.5130\n",
      "Epoch 71/100\n",
      "50000/50000 [==============================] - 9s 173us/step - loss: 0.4570 - acc: 0.8364 - val_loss: 2.2872 - val_acc: 0.5076\n",
      "Epoch 72/100\n",
      "50000/50000 [==============================] - 9s 174us/step - loss: 0.5002 - acc: 0.8185 - val_loss: 2.2500 - val_acc: 0.5055\n",
      "Epoch 73/100\n",
      "50000/50000 [==============================] - 9s 175us/step - loss: 0.4560 - acc: 0.8359 - val_loss: 2.2704 - val_acc: 0.5152\n",
      "Epoch 74/100\n",
      "50000/50000 [==============================] - 9s 175us/step - loss: 0.4430 - acc: 0.8412 - val_loss: 2.3468 - val_acc: 0.5164\n",
      "Epoch 75/100\n",
      "50000/50000 [==============================] - 9s 184us/step - loss: 0.4419 - acc: 0.8408 - val_loss: 2.5076 - val_acc: 0.5024\n",
      "Epoch 76/100\n",
      "50000/50000 [==============================] - 9s 178us/step - loss: 0.4337 - acc: 0.8435 - val_loss: 2.3853 - val_acc: 0.5170\n",
      "Epoch 77/100\n",
      "50000/50000 [==============================] - 9s 184us/step - loss: 0.4643 - acc: 0.8343 - val_loss: 2.3815 - val_acc: 0.5044\n",
      "Epoch 78/100\n",
      "50000/50000 [==============================] - 9s 176us/step - loss: 0.4400 - acc: 0.8428 - val_loss: 2.4932 - val_acc: 0.4989\n",
      "Epoch 79/100\n",
      "50000/50000 [==============================] - 9s 178us/step - loss: 0.4317 - acc: 0.8436 - val_loss: 2.4817 - val_acc: 0.5067\n",
      "Epoch 80/100\n",
      "50000/50000 [==============================] - 9s 176us/step - loss: 0.4081 - acc: 0.8542 - val_loss: 2.5112 - val_acc: 0.5048\n",
      "Epoch 81/100\n",
      "50000/50000 [==============================] - 9s 178us/step - loss: 0.4393 - acc: 0.8412 - val_loss: 2.4854 - val_acc: 0.5098\n",
      "Epoch 82/100\n",
      "50000/50000 [==============================] - 9s 180us/step - loss: 0.4159 - acc: 0.8511 - val_loss: 2.4868 - val_acc: 0.5069\n",
      "Epoch 83/100\n",
      "50000/50000 [==============================] - 9s 179us/step - loss: 0.4009 - acc: 0.8547 - val_loss: 2.5842 - val_acc: 0.5033\n",
      "Epoch 84/100\n",
      "50000/50000 [==============================] - 9s 180us/step - loss: 0.3924 - acc: 0.8601 - val_loss: 2.5911 - val_acc: 0.5015\n",
      "Epoch 85/100\n",
      "50000/50000 [==============================] - 9s 178us/step - loss: 0.3947 - acc: 0.8585 - val_loss: 2.6114 - val_acc: 0.5056\n",
      "Epoch 86/100\n",
      "50000/50000 [==============================] - 9s 181us/step - loss: 0.3790 - acc: 0.8636 - val_loss: 2.6015 - val_acc: 0.5044\n",
      "Epoch 87/100\n",
      "50000/50000 [==============================] - 9s 183us/step - loss: 0.3902 - acc: 0.8603 - val_loss: 2.6370 - val_acc: 0.5027\n",
      "Epoch 88/100\n",
      "50000/50000 [==============================] - 9s 182us/step - loss: 0.3983 - acc: 0.8582 - val_loss: 2.6787 - val_acc: 0.4982\n",
      "Epoch 89/100\n",
      "50000/50000 [==============================] - 9s 178us/step - loss: 0.3601 - acc: 0.8698 - val_loss: 2.7014 - val_acc: 0.4971\n",
      "Epoch 90/100\n",
      "50000/50000 [==============================] - 9s 182us/step - loss: 0.3528 - acc: 0.8722 - val_loss: 2.6989 - val_acc: 0.5020\n",
      "Epoch 91/100\n",
      "50000/50000 [==============================] - 9s 184us/step - loss: 0.3707 - acc: 0.8673 - val_loss: 2.6765 - val_acc: 0.5037\n",
      "Epoch 92/100\n",
      "50000/50000 [==============================] - 9s 184us/step - loss: 0.3794 - acc: 0.8637 - val_loss: 2.6789 - val_acc: 0.4997\n",
      "Epoch 93/100\n",
      "50000/50000 [==============================] - 9s 183us/step - loss: 0.3612 - acc: 0.8702 - val_loss: 2.7573 - val_acc: 0.5113\n",
      "Epoch 94/100\n",
      "50000/50000 [==============================] - 9s 182us/step - loss: 0.3587 - acc: 0.8715 - val_loss: 2.7980 - val_acc: 0.5060\n",
      "Epoch 95/100\n",
      "50000/50000 [==============================] - 9s 187us/step - loss: 0.3497 - acc: 0.8734 - val_loss: 2.8204 - val_acc: 0.5020\n",
      "Epoch 96/100\n",
      "50000/50000 [==============================] - 9s 183us/step - loss: 0.3357 - acc: 0.8794 - val_loss: 2.8402 - val_acc: 0.5027\n",
      "Epoch 97/100\n",
      "50000/50000 [==============================] - 9s 182us/step - loss: 0.3266 - acc: 0.8830 - val_loss: 2.8836 - val_acc: 0.4985\n",
      "Epoch 98/100\n",
      "50000/50000 [==============================] - 9s 186us/step - loss: 0.3689 - acc: 0.8686 - val_loss: 2.7631 - val_acc: 0.4999\n",
      "Epoch 99/100\n",
      "50000/50000 [==============================] - 9s 181us/step - loss: 0.3582 - acc: 0.8727 - val_loss: 2.8780 - val_acc: 0.5002\n",
      "Epoch 100/100\n",
      "50000/50000 [==============================] - 9s 186us/step - loss: 0.3232 - acc: 0.8850 - val_loss: 2.8913 - val_acc: 0.4992\n"
     ]
    },
    {
     "data": {
      "text/plain": [
       "<keras.callbacks.History at 0xb41fc19e8>"
      ]
     },
     "execution_count": 11,
     "metadata": {},
     "output_type": "execute_result"
    }
   ],
   "source": [
    "model.fit(x_train, y_train, \n",
    "          epochs=EPOCHS, \n",
    "          batch_size=BATCH_SIZE, \n",
    "          validation_data=(x_test, y_test), \n",
    "          shuffle=True)"
   ]
  },
  {
   "cell_type": "code",
   "execution_count": 13,
   "metadata": {},
   "outputs": [
    {
     "data": {
      "image/png": "[encoded data removed]",
      "text/plain": [
       "<Figure size 432x288 with 1 Axes>"
      ]
     },
     "metadata": {
      "needs_background": "light"
     },
     "output_type": "display_data"
    },
    {
     "data": {
      "image/png": "[encoded data removed]",
      "text/plain": [
       "<Figure size 432x288 with 1 Axes>"
      ]
     },
     "metadata": {
      "needs_background": "light"
     },
     "output_type": "display_data"
    }
   ],
   "source": [
    "import matplotlib.pyplot as plt\n",
    "\n",
    "\n",
    "train_loss = model.history.history[\"loss\"]\n",
    "valid_loss = model.history.history[\"val_loss\"]\n",
    "\n",
    "train_acc = model.history.history[\"acc\"]\n",
    "valid_acc = model.history.history[\"val_acc\"]\n",
    "\n",
    "plt.plot(range(len(train_loss)), train_loss, label=\"train loss\")\n",
    "plt.plot(range(len(valid_loss)), valid_loss, label=\"valid loss\")\n",
    "plt.legend()\n",
    "plt.title(\"Loss\")\n",
    "plt.show()\n",
    "\n",
    "plt.plot(range(len(train_acc)), train_acc, label=\"train accuracy\")\n",
    "plt.plot(range(len(valid_acc)), valid_acc, label=\"valid accuracy\")\n",
    "plt.legend()\n",
    "plt.title(\"Accuracy\")\n",
    "plt.show()"
   ]
  },
  {
   "cell_type": "code",
   "execution_count": null,
   "metadata": {},
   "outputs": [],
   "source": []
  }
 ],
 "metadata": {
  "kernelspec": {
   "display_name": "Python 3",
   "language": "python",
   "name": "python3"
  },
  "language_info": {
   "codemirror_mode": {
    "name": "ipython",
    "version": 3
   },
   "file_extension": ".py",
   "mimetype": "text/x-python",
   "name": "python",
   "nbconvert_exporter": "python",
   "pygments_lexer": "ipython3",
   "version": "3.7.3"
  }
 },
 "nbformat": 4,
 "nbformat_minor": 2
}
