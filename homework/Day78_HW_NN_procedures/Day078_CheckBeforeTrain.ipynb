{
 "cells": [
  {
   "cell_type": "markdown",
   "metadata": {},
   "source": [
    "## 範例重點\n",
    "### 學習在模型開始前檢查各個環節\n",
    "1. 是否有 GPU 資源\n",
    "2. 將前處理轉為函式，統一處理訓練、驗證與測試集\n",
    "3. 將超參數變數化，易於重複使用函式、模型等"
   ]
  },
  {
   "cell_type": "code",
   "execution_count": 1,
   "metadata": {},
   "outputs": [
    {
     "name": "stdout",
     "output_type": "stream",
     "text": [
      "/bin/sh: nvidia-smi: command not found\r\n"
     ]
    }
   ],
   "source": [
    "## 確認硬體資源 (如果你是在 Linux, 若是在 Windows, 請參考 https://blog.csdn.net/idwtwt/article/details/78017565)\n",
    "!nvidia-smi"
   ]
  },
  {
   "cell_type": "code",
   "execution_count": 2,
   "metadata": {},
   "outputs": [
    {
     "name": "stderr",
     "output_type": "stream",
     "text": [
      "Using TensorFlow backend.\n"
     ]
    }
   ],
   "source": [
    "import os\n",
    "import keras\n",
    "\n",
    "# 本範例不需使用 GPU, 將 GPU 設定為 \"無\"\n",
    "os.environ[\"CUDA_VISIBLE_DEVICES\"] = \"\""
   ]
  },
  {
   "cell_type": "code",
   "execution_count": 3,
   "metadata": {},
   "outputs": [],
   "source": [
    "# 從 Keras 的內建功能中，取得 train 與 test 資料集\n",
    "train, test = keras.datasets.cifar10.load_data()"
   ]
  },
  {
   "cell_type": "code",
   "execution_count": 4,
   "metadata": {},
   "outputs": [],
   "source": [
    "## 資料前處理\n",
    "def preproc_x(x, flatten=True):\n",
    "    x = x / 255.\n",
    "    if flatten:\n",
    "        x = x.reshape((len(x), -1))\n",
    "    return x\n",
    "\n",
    "def preproc_y(y, num_classes=10):\n",
    "    if y.shape[-1] == 1:\n",
    "        y = keras.utils.to_categorical(y, num_classes)\n",
    "    return y    "
   ]
  },
  {
   "cell_type": "code",
   "execution_count": 5,
   "metadata": {},
   "outputs": [],
   "source": [
    "x_train, y_train = train\n",
    "x_test, y_test = test\n",
    "\n",
    "# 資料前處理 - X 標準化\n",
    "x_train = preproc_x(x_train)\n",
    "x_test = preproc_x(x_test)\n",
    "\n",
    "# 資料前處理 -Y 轉成 onehot\n",
    "y_train = preproc_y(y_train)\n",
    "y_test = preproc_y(y_test)"
   ]
  },
  {
   "cell_type": "code",
   "execution_count": 6,
   "metadata": {},
   "outputs": [],
   "source": [
    "def build_mlp(input_shape, output_units=10, num_neurons=[512, 256, 128]):\n",
    "    input_layer = keras.layers.Input(input_shape)\n",
    "    \n",
    "    for i, n_units in enumerate(num_neurons):\n",
    "        if i == 0:\n",
    "            x = keras.layers.Dense(units=n_units, activation=\"relu\", name=\"hidden_layer\"+str(i+1))(input_layer)\n",
    "        else:\n",
    "            x = keras.layers.Dense(units=n_units, activation=\"relu\", name=\"hidden_layer\"+str(i+1))(x)\n",
    "    \n",
    "    out = keras.layers.Dense(units=output_units, activation=\"softmax\", name=\"output\")(x)\n",
    "    \n",
    "    model = keras.models.Model(inputs=[input_layer], outputs=[out])\n",
    "    return model"
   ]
  },
  {
   "cell_type": "code",
   "execution_count": 7,
   "metadata": {},
   "outputs": [
    {
     "name": "stderr",
     "output_type": "stream",
     "text": [
      "WARNING: Logging before flag parsing goes to stderr.\n",
      "W0721 23:15:41.972873 4494235072 deprecation_wrapper.py:119] From /Users/pmpmpm/anaconda3/lib/python3.7/site-packages/keras/backend/tensorflow_backend.py:74: The name tf.get_default_graph is deprecated. Please use tf.compat.v1.get_default_graph instead.\n",
      "\n",
      "W0721 23:15:42.043269 4494235072 deprecation_wrapper.py:119] From /Users/pmpmpm/anaconda3/lib/python3.7/site-packages/keras/backend/tensorflow_backend.py:517: The name tf.placeholder is deprecated. Please use tf.compat.v1.placeholder instead.\n",
      "\n",
      "W0721 23:15:42.062780 4494235072 deprecation_wrapper.py:119] From /Users/pmpmpm/anaconda3/lib/python3.7/site-packages/keras/backend/tensorflow_backend.py:4138: The name tf.random_uniform is deprecated. Please use tf.random.uniform instead.\n",
      "\n"
     ]
    },
    {
     "name": "stdout",
     "output_type": "stream",
     "text": [
      "_________________________________________________________________\n",
      "Layer (type)                 Output Shape              Param #   \n",
      "=================================================================\n",
      "input_1 (InputLayer)         (None, 3072)              0         \n",
      "_________________________________________________________________\n",
      "hidden_layer1 (Dense)        (None, 512)               1573376   \n",
      "_________________________________________________________________\n",
      "hidden_layer2 (Dense)        (None, 256)               131328    \n",
      "_________________________________________________________________\n",
      "hidden_layer3 (Dense)        (None, 128)               32896     \n",
      "_________________________________________________________________\n",
      "output (Dense)               (None, 10)                1290      \n",
      "=================================================================\n",
      "Total params: 1,738,890\n",
      "Trainable params: 1,738,890\n",
      "Non-trainable params: 0\n",
      "_________________________________________________________________\n"
     ]
    }
   ],
   "source": [
    "model = build_mlp(input_shape=x_train.shape[1:])\n",
    "model.summary()"
   ]
  },
  {
   "cell_type": "code",
   "execution_count": 8,
   "metadata": {},
   "outputs": [],
   "source": [
    "## 超參數設定\n",
    "LEARNING_RATE = 0.001\n",
    "EPOCHS = 100\n",
    "BATCH_SIZE = 256"
   ]
  },
  {
   "cell_type": "code",
   "execution_count": 9,
   "metadata": {},
   "outputs": [
    {
     "name": "stderr",
     "output_type": "stream",
     "text": [
      "W0721 23:15:49.762054 4494235072 deprecation_wrapper.py:119] From /Users/pmpmpm/anaconda3/lib/python3.7/site-packages/keras/optimizers.py:790: The name tf.train.Optimizer is deprecated. Please use tf.compat.v1.train.Optimizer instead.\n",
      "\n",
      "W0721 23:15:49.778533 4494235072 deprecation_wrapper.py:119] From /Users/pmpmpm/anaconda3/lib/python3.7/site-packages/keras/backend/tensorflow_backend.py:3295: The name tf.log is deprecated. Please use tf.math.log instead.\n",
      "\n"
     ]
    }
   ],
   "source": [
    "optimizer = keras.optimizers.Adam(lr=LEARNING_RATE)\n",
    "model.compile(loss=\"categorical_crossentropy\", metrics=[\"accuracy\"], optimizer=optimizer)"
   ]
  },
  {
   "cell_type": "code",
   "execution_count": 10,
   "metadata": {},
   "outputs": [
    {
     "name": "stderr",
     "output_type": "stream",
     "text": [
      "W0721 23:15:51.816524 4494235072 deprecation.py:323] From /Users/pmpmpm/anaconda3/lib/python3.7/site-packages/tensorflow/python/ops/math_grad.py:1250: add_dispatch_support.<locals>.wrapper (from tensorflow.python.ops.array_ops) is deprecated and will be removed in a future version.\n",
      "Instructions for updating:\n",
      "Use tf.where in 2.0, which has the same broadcast rule as np.where\n",
      "W0721 23:15:51.884505 4494235072 deprecation_wrapper.py:119] From /Users/pmpmpm/anaconda3/lib/python3.7/site-packages/keras/backend/tensorflow_backend.py:986: The name tf.assign_add is deprecated. Please use tf.compat.v1.assign_add instead.\n",
      "\n"
     ]
    },
    {
     "name": "stdout",
     "output_type": "stream",
     "text": [
      "Train on 50000 samples, validate on 10000 samples\n",
      "Epoch 1/100\n",
      "50000/50000 [==============================] - 8s 154us/step - loss: 1.9419 - acc: 0.3024 - val_loss: 1.7881 - val_acc: 0.3697\n",
      "Epoch 2/100\n",
      "50000/50000 [==============================] - 8s 161us/step - loss: 1.7110 - acc: 0.3886 - val_loss: 1.6744 - val_acc: 0.4085\n",
      "Epoch 3/100\n",
      "50000/50000 [==============================] - 10s 209us/step - loss: 1.6319 - acc: 0.4142 - val_loss: 1.6307 - val_acc: 0.4155\n",
      "Epoch 4/100\n",
      "50000/50000 [==============================] - 9s 175us/step - loss: 1.5602 - acc: 0.4415 - val_loss: 1.5301 - val_acc: 0.4483\n",
      "Epoch 5/100\n",
      "50000/50000 [==============================] - 9s 174us/step - loss: 1.5164 - acc: 0.4595 - val_loss: 1.5089 - val_acc: 0.4614\n",
      "Epoch 6/100\n",
      "50000/50000 [==============================] - 8s 167us/step - loss: 1.4749 - acc: 0.4728 - val_loss: 1.4555 - val_acc: 0.4837\n",
      "Epoch 7/100\n",
      "50000/50000 [==============================] - 8s 164us/step - loss: 1.4425 - acc: 0.4851 - val_loss: 1.5111 - val_acc: 0.4597\n",
      "Epoch 8/100\n",
      "50000/50000 [==============================] - 9s 177us/step - loss: 1.4112 - acc: 0.4984 - val_loss: 1.4474 - val_acc: 0.4841\n",
      "Epoch 9/100\n",
      "50000/50000 [==============================] - 8s 152us/step - loss: 1.3915 - acc: 0.5039 - val_loss: 1.4351 - val_acc: 0.4848\n",
      "Epoch 10/100\n",
      "50000/50000 [==============================] - 9s 188us/step - loss: 1.3587 - acc: 0.5171 - val_loss: 1.4807 - val_acc: 0.4750\n",
      "Epoch 11/100\n",
      "50000/50000 [==============================] - 13s 251us/step - loss: 1.3422 - acc: 0.5203 - val_loss: 1.4133 - val_acc: 0.4981\n",
      "Epoch 12/100\n",
      "50000/50000 [==============================] - 15s 297us/step - loss: 1.3248 - acc: 0.5293 - val_loss: 1.4279 - val_acc: 0.4928\n",
      "Epoch 13/100\n",
      "50000/50000 [==============================] - 18s 353us/step - loss: 1.2920 - acc: 0.5407 - val_loss: 1.4047 - val_acc: 0.5064\n",
      "Epoch 14/100\n",
      "50000/50000 [==============================] - 13s 266us/step - loss: 1.2710 - acc: 0.5462 - val_loss: 1.4001 - val_acc: 0.4982\n",
      "Epoch 15/100\n",
      "50000/50000 [==============================] - 9s 185us/step - loss: 1.2563 - acc: 0.5516 - val_loss: 1.3847 - val_acc: 0.5075\n",
      "Epoch 16/100\n",
      "50000/50000 [==============================] - 7s 148us/step - loss: 1.2317 - acc: 0.5615 - val_loss: 1.4005 - val_acc: 0.5048\n",
      "Epoch 17/100\n",
      "50000/50000 [==============================] - 8s 169us/step - loss: 1.2089 - acc: 0.5683 - val_loss: 1.3710 - val_acc: 0.5118\n",
      "Epoch 18/100\n",
      "50000/50000 [==============================] - 8s 153us/step - loss: 1.1905 - acc: 0.5752 - val_loss: 1.3834 - val_acc: 0.5112\n",
      "Epoch 19/100\n",
      "50000/50000 [==============================] - 7s 140us/step - loss: 1.1772 - acc: 0.5806 - val_loss: 1.3627 - val_acc: 0.5241\n",
      "Epoch 20/100\n",
      "50000/50000 [==============================] - 11s 224us/step - loss: 1.1533 - acc: 0.5901 - val_loss: 1.3933 - val_acc: 0.5096\n",
      "Epoch 21/100\n",
      "50000/50000 [==============================] - 9s 186us/step - loss: 1.1343 - acc: 0.5943 - val_loss: 1.3608 - val_acc: 0.5250\n",
      "Epoch 22/100\n",
      "50000/50000 [==============================] - 9s 173us/step - loss: 1.1229 - acc: 0.6010 - val_loss: 1.3659 - val_acc: 0.5219\n",
      "Epoch 23/100\n",
      "50000/50000 [==============================] - 8s 154us/step - loss: 1.0880 - acc: 0.6119 - val_loss: 1.3506 - val_acc: 0.5319\n",
      "Epoch 24/100\n",
      "50000/50000 [==============================] - 9s 189us/step - loss: 1.0837 - acc: 0.6143 - val_loss: 1.3852 - val_acc: 0.5272\n",
      "Epoch 25/100\n",
      "50000/50000 [==============================] - 9s 179us/step - loss: 1.0614 - acc: 0.6227 - val_loss: 1.4160 - val_acc: 0.5185\n",
      "Epoch 26/100\n",
      "50000/50000 [==============================] - 8s 156us/step - loss: 1.0483 - acc: 0.6273 - val_loss: 1.4142 - val_acc: 0.5143\n",
      "Epoch 27/100\n",
      "50000/50000 [==============================] - 9s 180us/step - loss: 1.0263 - acc: 0.6367 - val_loss: 1.3986 - val_acc: 0.5236\n",
      "Epoch 28/100\n",
      "50000/50000 [==============================] - 9s 177us/step - loss: 1.0039 - acc: 0.6420 - val_loss: 1.3873 - val_acc: 0.5244\n",
      "Epoch 29/100\n",
      "50000/50000 [==============================] - 9s 175us/step - loss: 0.9831 - acc: 0.6472 - val_loss: 1.4054 - val_acc: 0.5220\n",
      "Epoch 30/100\n",
      "50000/50000 [==============================] - 7s 150us/step - loss: 0.9720 - acc: 0.6527 - val_loss: 1.4117 - val_acc: 0.5220\n",
      "Epoch 31/100\n",
      "50000/50000 [==============================] - 8s 159us/step - loss: 0.9552 - acc: 0.6633 - val_loss: 1.4300 - val_acc: 0.5271\n",
      "Epoch 32/100\n",
      "50000/50000 [==============================] - 8s 161us/step - loss: 0.9400 - acc: 0.6626 - val_loss: 1.4388 - val_acc: 0.5288\n",
      "Epoch 33/100\n",
      "50000/50000 [==============================] - 9s 187us/step - loss: 0.9079 - acc: 0.6774 - val_loss: 1.4408 - val_acc: 0.5292\n",
      "Epoch 34/100\n",
      "50000/50000 [==============================] - 9s 172us/step - loss: 0.9039 - acc: 0.6775 - val_loss: 1.4802 - val_acc: 0.5194\n",
      "Epoch 35/100\n",
      "50000/50000 [==============================] - 7s 149us/step - loss: 0.8837 - acc: 0.6853 - val_loss: 1.4691 - val_acc: 0.5182\n",
      "Epoch 36/100\n",
      "50000/50000 [==============================] - 8s 156us/step - loss: 0.8674 - acc: 0.6919 - val_loss: 1.5263 - val_acc: 0.5151\n",
      "Epoch 37/100\n",
      "50000/50000 [==============================] - 8s 152us/step - loss: 0.8493 - acc: 0.6972 - val_loss: 1.5019 - val_acc: 0.5165\n",
      "Epoch 38/100\n",
      "50000/50000 [==============================] - 8s 163us/step - loss: 0.8262 - acc: 0.7042 - val_loss: 1.5840 - val_acc: 0.5138\n",
      "Epoch 39/100\n",
      "50000/50000 [==============================] - 8s 169us/step - loss: 0.8092 - acc: 0.7099 - val_loss: 1.5409 - val_acc: 0.5224\n",
      "Epoch 40/100\n",
      "50000/50000 [==============================] - 8s 166us/step - loss: 0.7891 - acc: 0.7183 - val_loss: 1.5825 - val_acc: 0.5093\n",
      "Epoch 41/100\n",
      "50000/50000 [==============================] - 8s 166us/step - loss: 0.7886 - acc: 0.7179 - val_loss: 1.6903 - val_acc: 0.5076\n",
      "Epoch 42/100\n",
      "50000/50000 [==============================] - 8s 151us/step - loss: 0.7622 - acc: 0.7291 - val_loss: 1.6054 - val_acc: 0.5168\n",
      "Epoch 43/100\n",
      "50000/50000 [==============================] - 8s 155us/step - loss: 0.7526 - acc: 0.7314 - val_loss: 1.6188 - val_acc: 0.5148\n",
      "Epoch 44/100\n",
      "50000/50000 [==============================] - 8s 152us/step - loss: 0.7426 - acc: 0.7348 - val_loss: 1.6621 - val_acc: 0.5099\n",
      "Epoch 45/100\n",
      "50000/50000 [==============================] - 10s 201us/step - loss: 0.7240 - acc: 0.7406 - val_loss: 1.6930 - val_acc: 0.5055\n",
      "Epoch 46/100\n",
      "50000/50000 [==============================] - 11s 223us/step - loss: 0.7162 - acc: 0.7450 - val_loss: 1.6805 - val_acc: 0.5113\n",
      "Epoch 47/100\n",
      "50000/50000 [==============================] - 8s 157us/step - loss: 0.6926 - acc: 0.7525 - val_loss: 1.6868 - val_acc: 0.5241\n",
      "Epoch 48/100\n",
      "50000/50000 [==============================] - 7s 141us/step - loss: 0.6920 - acc: 0.7543 - val_loss: 1.7565 - val_acc: 0.5187\n",
      "Epoch 49/100\n",
      "50000/50000 [==============================] - 9s 171us/step - loss: 0.6712 - acc: 0.7591 - val_loss: 1.7693 - val_acc: 0.5091\n",
      "Epoch 50/100\n",
      "50000/50000 [==============================] - 7s 137us/step - loss: 0.6634 - acc: 0.7646 - val_loss: 1.7495 - val_acc: 0.5169\n",
      "Epoch 51/100\n",
      "50000/50000 [==============================] - 7s 145us/step - loss: 0.6466 - acc: 0.7704 - val_loss: 1.8054 - val_acc: 0.5143\n",
      "Epoch 52/100\n",
      "50000/50000 [==============================] - 8s 163us/step - loss: 0.6370 - acc: 0.7728 - val_loss: 1.8016 - val_acc: 0.5150\n",
      "Epoch 53/100\n",
      "50000/50000 [==============================] - 9s 180us/step - loss: 0.6127 - acc: 0.7811 - val_loss: 1.8177 - val_acc: 0.5128\n",
      "Epoch 54/100\n",
      "50000/50000 [==============================] - 8s 165us/step - loss: 0.6090 - acc: 0.7822 - val_loss: 1.8634 - val_acc: 0.5063\n",
      "Epoch 55/100\n",
      "50000/50000 [==============================] - 7s 150us/step - loss: 0.6015 - acc: 0.7832 - val_loss: 1.8592 - val_acc: 0.5118\n",
      "Epoch 56/100\n",
      "50000/50000 [==============================] - 7s 143us/step - loss: 0.5917 - acc: 0.7891 - val_loss: 1.8644 - val_acc: 0.5154\n",
      "Epoch 57/100\n",
      "50000/50000 [==============================] - 10s 197us/step - loss: 0.5764 - acc: 0.7924 - val_loss: 1.9344 - val_acc: 0.5149\n",
      "Epoch 58/100\n",
      "50000/50000 [==============================] - 13s 256us/step - loss: 0.5662 - acc: 0.7971 - val_loss: 1.9617 - val_acc: 0.5114\n",
      "Epoch 59/100\n"
     ]
    },
    {
     "name": "stdout",
     "output_type": "stream",
     "text": [
      "50000/50000 [==============================] - 11s 215us/step - loss: 0.5469 - acc: 0.8040 - val_loss: 2.0135 - val_acc: 0.5145\n",
      "Epoch 60/100\n",
      "50000/50000 [==============================] - 10s 200us/step - loss: 0.5418 - acc: 0.8065 - val_loss: 2.0401 - val_acc: 0.4992\n",
      "Epoch 61/100\n",
      "50000/50000 [==============================] - 8s 164us/step - loss: 0.5327 - acc: 0.8095 - val_loss: 2.0157 - val_acc: 0.5189\n",
      "Epoch 62/100\n",
      "50000/50000 [==============================] - 8s 159us/step - loss: 0.5126 - acc: 0.8170 - val_loss: 2.0276 - val_acc: 0.5099\n",
      "Epoch 63/100\n",
      "50000/50000 [==============================] - 7s 146us/step - loss: 0.5137 - acc: 0.8163 - val_loss: 2.0801 - val_acc: 0.5122\n",
      "Epoch 64/100\n",
      "50000/50000 [==============================] - 7s 146us/step - loss: 0.5015 - acc: 0.8210 - val_loss: 2.1060 - val_acc: 0.5077\n",
      "Epoch 65/100\n",
      "50000/50000 [==============================] - 9s 188us/step - loss: 0.4960 - acc: 0.8226 - val_loss: 2.1171 - val_acc: 0.5127\n",
      "Epoch 66/100\n",
      "50000/50000 [==============================] - 10s 207us/step - loss: 0.4918 - acc: 0.8219 - val_loss: 2.2006 - val_acc: 0.5025\n",
      "Epoch 67/100\n",
      "50000/50000 [==============================] - 9s 182us/step - loss: 0.4963 - acc: 0.8224 - val_loss: 2.3062 - val_acc: 0.5048\n",
      "Epoch 68/100\n",
      "50000/50000 [==============================] - 9s 180us/step - loss: 0.4612 - acc: 0.8348 - val_loss: 2.2567 - val_acc: 0.5066\n",
      "Epoch 69/100\n",
      "50000/50000 [==============================] - 7s 150us/step - loss: 0.4670 - acc: 0.8327 - val_loss: 2.2899 - val_acc: 0.5044\n",
      "Epoch 70/100\n",
      "50000/50000 [==============================] - 7s 135us/step - loss: 0.4471 - acc: 0.8403 - val_loss: 2.2598 - val_acc: 0.5048\n",
      "Epoch 71/100\n",
      "50000/50000 [==============================] - 8s 152us/step - loss: 0.4535 - acc: 0.8378 - val_loss: 2.3664 - val_acc: 0.4985\n",
      "Epoch 72/100\n",
      "50000/50000 [==============================] - 8s 152us/step - loss: 0.4388 - acc: 0.8419 - val_loss: 2.3061 - val_acc: 0.5094\n",
      "Epoch 73/100\n",
      "50000/50000 [==============================] - 8s 169us/step - loss: 0.4164 - acc: 0.8513 - val_loss: 2.3728 - val_acc: 0.5048\n",
      "Epoch 74/100\n",
      "50000/50000 [==============================] - 10s 194us/step - loss: 0.4284 - acc: 0.8440 - val_loss: 2.3897 - val_acc: 0.5012\n",
      "Epoch 75/100\n",
      "50000/50000 [==============================] - 7s 138us/step - loss: 0.4141 - acc: 0.8502 - val_loss: 2.4386 - val_acc: 0.5028\n",
      "Epoch 76/100\n",
      "50000/50000 [==============================] - 7s 137us/step - loss: 0.4118 - acc: 0.8517 - val_loss: 2.4331 - val_acc: 0.5057\n",
      "Epoch 77/100\n",
      "50000/50000 [==============================] - 7s 136us/step - loss: 0.4056 - acc: 0.8546 - val_loss: 2.4548 - val_acc: 0.5083\n",
      "Epoch 78/100\n",
      "50000/50000 [==============================] - 6s 129us/step - loss: 0.4023 - acc: 0.8544 - val_loss: 2.4624 - val_acc: 0.4986\n",
      "Epoch 79/100\n",
      "50000/50000 [==============================] - 7s 147us/step - loss: 0.4048 - acc: 0.8543 - val_loss: 2.5484 - val_acc: 0.5016\n",
      "Epoch 80/100\n",
      "50000/50000 [==============================] - 7s 136us/step - loss: 0.3930 - acc: 0.8578 - val_loss: 2.4293 - val_acc: 0.5117\n",
      "Epoch 81/100\n",
      "50000/50000 [==============================] - 7s 139us/step - loss: 0.3874 - acc: 0.8605 - val_loss: 2.5659 - val_acc: 0.5049\n",
      "Epoch 82/100\n",
      "50000/50000 [==============================] - 7s 137us/step - loss: 0.3629 - acc: 0.8684 - val_loss: 2.6105 - val_acc: 0.5063\n",
      "Epoch 83/100\n",
      "50000/50000 [==============================] - 7s 139us/step - loss: 0.3648 - acc: 0.8685 - val_loss: 2.6415 - val_acc: 0.4982\n",
      "Epoch 84/100\n",
      "50000/50000 [==============================] - 7s 134us/step - loss: 0.3586 - acc: 0.8713 - val_loss: 2.6254 - val_acc: 0.5071\n",
      "Epoch 85/100\n",
      "50000/50000 [==============================] - 7s 135us/step - loss: 0.3544 - acc: 0.8726 - val_loss: 2.7150 - val_acc: 0.4966\n",
      "Epoch 86/100\n",
      "50000/50000 [==============================] - 7s 135us/step - loss: 0.3790 - acc: 0.8638 - val_loss: 2.7034 - val_acc: 0.4993\n",
      "Epoch 87/100\n",
      "50000/50000 [==============================] - 7s 143us/step - loss: 0.3523 - acc: 0.8736 - val_loss: 2.6946 - val_acc: 0.4941\n",
      "Epoch 88/100\n",
      "50000/50000 [==============================] - 7s 133us/step - loss: 0.3187 - acc: 0.8865 - val_loss: 2.7265 - val_acc: 0.4972\n",
      "Epoch 89/100\n",
      "50000/50000 [==============================] - 7s 134us/step - loss: 0.3187 - acc: 0.8854 - val_loss: 2.8637 - val_acc: 0.5024\n",
      "Epoch 90/100\n",
      "50000/50000 [==============================] - 11s 217us/step - loss: 0.3457 - acc: 0.8754 - val_loss: 2.7960 - val_acc: 0.5029\n",
      "Epoch 91/100\n",
      "50000/50000 [==============================] - 11s 221us/step - loss: 0.3430 - acc: 0.8757 - val_loss: 2.8458 - val_acc: 0.4975\n",
      "Epoch 92/100\n",
      "50000/50000 [==============================] - 9s 178us/step - loss: 0.3377 - acc: 0.8786 - val_loss: 2.8381 - val_acc: 0.5052\n",
      "Epoch 93/100\n",
      "50000/50000 [==============================] - 9s 183us/step - loss: 0.3085 - acc: 0.8887 - val_loss: 2.8658 - val_acc: 0.4965\n",
      "Epoch 94/100\n",
      "50000/50000 [==============================] - 9s 178us/step - loss: 0.3260 - acc: 0.8811 - val_loss: 2.8563 - val_acc: 0.4975\n",
      "Epoch 95/100\n",
      "50000/50000 [==============================] - 9s 179us/step - loss: 0.3052 - acc: 0.8909 - val_loss: 2.9795 - val_acc: 0.4983\n",
      "Epoch 96/100\n",
      "50000/50000 [==============================] - 12s 231us/step - loss: 0.2920 - acc: 0.8954 - val_loss: 2.9923 - val_acc: 0.5017\n",
      "Epoch 97/100\n",
      "50000/50000 [==============================] - 10s 202us/step - loss: 0.3314 - acc: 0.8803 - val_loss: 2.9244 - val_acc: 0.4999\n",
      "Epoch 98/100\n",
      "50000/50000 [==============================] - 10s 191us/step - loss: 0.3006 - acc: 0.8911 - val_loss: 3.0356 - val_acc: 0.4953\n",
      "Epoch 99/100\n",
      "50000/50000 [==============================] - 9s 187us/step - loss: 0.3010 - acc: 0.8908 - val_loss: 3.0196 - val_acc: 0.5005\n",
      "Epoch 100/100\n",
      "50000/50000 [==============================] - 10s 205us/step - loss: 0.3035 - acc: 0.8914 - val_loss: 2.9620 - val_acc: 0.5030\n"
     ]
    },
    {
     "data": {
      "text/plain": [
       "<keras.callbacks.History at 0xb40d9df28>"
      ]
     },
     "execution_count": 10,
     "metadata": {},
     "output_type": "execute_result"
    }
   ],
   "source": [
    "model.fit(x_train, y_train, \n",
    "          epochs=EPOCHS, \n",
    "          batch_size=BATCH_SIZE, \n",
    "          validation_data=(x_test, y_test), \n",
    "          shuffle=True)"
   ]
  },
  {
   "cell_type": "code",
   "execution_count": 12,
   "metadata": {},
   "outputs": [
    {
     "data": {
      "image/png": "[encoded data removed]",
      "text/plain": [
       "<Figure size 432x288 with 1 Axes>"
      ]
     },
     "metadata": {
      "needs_background": "light"
     },
     "output_type": "display_data"
    },
    {
     "data": {
      "image/png": "[encoded data removed]",
      "text/plain": [
       "<Figure size 432x288 with 1 Axes>"
      ]
     },
     "metadata": {
      "needs_background": "light"
     },
     "output_type": "display_data"
    }
   ],
   "source": [
    "# 訓練模型並檢視驗證集的結果\n",
    "import matplotlib.pyplot as plt\n",
    "\n",
    "train_loss = model.history.history[\"loss\"]\n",
    "valid_loss = model.history.history[\"val_loss\"]\n",
    "\n",
    "train_acc = model.history.history[\"acc\"]\n",
    "valid_acc = model.history.history[\"val_acc\"]\n",
    "\n",
    "plt.plot(range(len(train_loss)), train_loss, label=\"train loss\")\n",
    "plt.plot(range(len(valid_loss)), valid_loss, label=\"valid loss\")\n",
    "plt.legend()\n",
    "plt.title(\"Loss\")\n",
    "plt.show()\n",
    "\n",
    "plt.plot(range(len(train_acc)), train_acc, label=\"train accuracy\")\n",
    "plt.plot(range(len(valid_acc)), valid_acc, label=\"valid accuracy\")\n",
    "plt.legend()\n",
    "plt.title(\"Accuracy\")\n",
    "plt.show()"
   ]
  },
  {
   "cell_type": "markdown",
   "metadata": {},
   "source": [
    "## Work\n",
    "1. 請嘗試將 preproc_x 替換成以每筆資料的 min/max 進行標準化至 -1 ~ 1 間，再進行訓練\n",
    "2. 請嘗試將 mlp 疊更深 (e.g 5~10 層)，進行訓練後觀察 learning curve 的走勢\n",
    "3. (optional) 請改用 GPU 進行訓練 (如果你有 GPU 的話)，比較使用 CPU 與 GPU 的訓練速度"
   ]
  }
 ],
 "metadata": {
  "kernelspec": {
   "display_name": "Python 3",
   "language": "python",
   "name": "python3"
  },
  "language_info": {
   "codemirror_mode": {
    "name": "ipython",
    "version": 3
   },
   "file_extension": ".py",
   "mimetype": "text/x-python",
   "name": "python",
   "nbconvert_exporter": "python",
   "pygments_lexer": "ipython3",
   "version": "3.7.3"
  }
 },
 "nbformat": 4,
 "nbformat_minor": 2
}
