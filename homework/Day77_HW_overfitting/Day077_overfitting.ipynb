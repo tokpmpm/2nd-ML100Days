{
 "cells": [
  {
   "cell_type": "markdown",
   "metadata": {},
   "source": [
    "## 範例重點\n",
    "* 學會從 Keras 內建函式取得資料\n",
    "* 能夠建立簡易的深度學習模型\n",
    "* 觀察並了解 Overfit 現象"
   ]
  },
  {
   "cell_type": "code",
   "execution_count": 1,
   "metadata": {},
   "outputs": [
    {
     "name": "stderr",
     "output_type": "stream",
     "text": [
      "Using TensorFlow backend.\n"
     ]
    }
   ],
   "source": [
    "import os\n",
    "import keras\n",
    "\n",
    "# 本範例不需使用 GPU, 將 GPU 設定為 \"無\"\n",
    "os.environ[\"CUDA_VISIBLE_DEVICES\"] = \"\""
   ]
  },
  {
   "cell_type": "code",
   "execution_count": 2,
   "metadata": {},
   "outputs": [],
   "source": [
    "# 從 Keras 的內建功能中，取得 train 與 test 資料集\n",
    "train, test = keras.datasets.cifar10.load_data()"
   ]
  },
  {
   "cell_type": "code",
   "execution_count": 3,
   "metadata": {},
   "outputs": [],
   "source": [
    "# 將 X 與 Y 獨立放進變數\n",
    "x_train, y_train = train\n",
    "x_test, y_test = test\n",
    "# 資料前處理 - 標準化\n",
    "x_train = x_train / 255.\n",
    "x_test = x_test / 255.\n",
    "\n",
    "# 將資料從圖形 (RGB) 轉為向量 (Single Vector)\n",
    "x_train = x_train.reshape((len(x_train), -1))\n",
    "x_test = x_test.reshape((len(x_test), -1))\n",
    "\n",
    "# 將目標轉為 one-hot encoding\n",
    "y_train = keras.utils.to_categorical(y_train, num_classes=10)\n",
    "y_test = keras.utils.to_categorical(y_test, num_classes=10)"
   ]
  },
  {
   "cell_type": "code",
   "execution_count": 4,
   "metadata": {},
   "outputs": [],
   "source": [
    "# 建立一個有三層隱藏層之神經網路\n",
    "def build_mlp():\n",
    "    input_layer = keras.layers.Input([x_train.shape[-1]])\n",
    "    x = keras.layers.Dense(units=512, activation=\"relu\")(input_layer)\n",
    "    x = keras.layers.Dense(units=256, activation=\"relu\")(x)\n",
    "    x = keras.layers.Dense(units=128, activation=\"relu\")(x)\n",
    "    out = keras.layers.Dense(units=10, activation=\"softmax\")(x)\n",
    "    \n",
    "    model = keras.models.Model(inputs=[input_layer], outputs=[out])\n",
    "    return model"
   ]
  },
  {
   "cell_type": "code",
   "execution_count": 5,
   "metadata": {},
   "outputs": [
    {
     "name": "stderr",
     "output_type": "stream",
     "text": [
      "WARNING: Logging before flag parsing goes to stderr.\n",
      "W0721 17:27:03.894352 4664387008 deprecation_wrapper.py:119] From /Users/pmpmpm/anaconda3/lib/python3.7/site-packages/keras/backend/tensorflow_backend.py:74: The name tf.get_default_graph is deprecated. Please use tf.compat.v1.get_default_graph instead.\n",
      "\n",
      "W0721 17:27:03.943516 4664387008 deprecation_wrapper.py:119] From /Users/pmpmpm/anaconda3/lib/python3.7/site-packages/keras/backend/tensorflow_backend.py:517: The name tf.placeholder is deprecated. Please use tf.compat.v1.placeholder instead.\n",
      "\n",
      "W0721 17:27:03.965070 4664387008 deprecation_wrapper.py:119] From /Users/pmpmpm/anaconda3/lib/python3.7/site-packages/keras/backend/tensorflow_backend.py:4138: The name tf.random_uniform is deprecated. Please use tf.random.uniform instead.\n",
      "\n",
      "W0721 17:27:04.069591 4664387008 deprecation_wrapper.py:119] From /Users/pmpmpm/anaconda3/lib/python3.7/site-packages/keras/optimizers.py:790: The name tf.train.Optimizer is deprecated. Please use tf.compat.v1.train.Optimizer instead.\n",
      "\n",
      "W0721 17:27:04.084561 4664387008 deprecation_wrapper.py:119] From /Users/pmpmpm/anaconda3/lib/python3.7/site-packages/keras/backend/tensorflow_backend.py:3295: The name tf.log is deprecated. Please use tf.math.log instead.\n",
      "\n"
     ]
    },
    {
     "name": "stdout",
     "output_type": "stream",
     "text": [
      "_________________________________________________________________\n",
      "Layer (type)                 Output Shape              Param #   \n",
      "=================================================================\n",
      "input_1 (InputLayer)         (None, 3072)              0         \n",
      "_________________________________________________________________\n",
      "dense_1 (Dense)              (None, 512)               1573376   \n",
      "_________________________________________________________________\n",
      "dense_2 (Dense)              (None, 256)               131328    \n",
      "_________________________________________________________________\n",
      "dense_3 (Dense)              (None, 128)               32896     \n",
      "_________________________________________________________________\n",
      "dense_4 (Dense)              (None, 10)                1290      \n",
      "=================================================================\n",
      "Total params: 1,738,890\n",
      "Trainable params: 1,738,890\n",
      "Non-trainable params: 0\n",
      "_________________________________________________________________\n"
     ]
    }
   ],
   "source": [
    "model = build_mlp()\n",
    "# 用 Keras 內建方法檢視模型各層參數量\n",
    "model.summary()\n",
    "\n",
    "optimizer = keras.optimizers.Adam(lr=0.001)\n",
    "model.compile(loss=\"categorical_crossentropy\", metrics=[\"accuracy\"], optimizer=optimizer)"
   ]
  },
  {
   "cell_type": "code",
   "execution_count": 6,
   "metadata": {},
   "outputs": [
    {
     "name": "stderr",
     "output_type": "stream",
     "text": [
      "W0721 17:27:05.743340 4664387008 deprecation.py:323] From /Users/pmpmpm/anaconda3/lib/python3.7/site-packages/tensorflow/python/ops/math_grad.py:1250: add_dispatch_support.<locals>.wrapper (from tensorflow.python.ops.array_ops) is deprecated and will be removed in a future version.\n",
      "Instructions for updating:\n",
      "Use tf.where in 2.0, which has the same broadcast rule as np.where\n",
      "W0721 17:27:05.810642 4664387008 deprecation_wrapper.py:119] From /Users/pmpmpm/anaconda3/lib/python3.7/site-packages/keras/backend/tensorflow_backend.py:986: The name tf.assign_add is deprecated. Please use tf.compat.v1.assign_add instead.\n",
      "\n"
     ]
    },
    {
     "name": "stdout",
     "output_type": "stream",
     "text": [
      "Train on 50000 samples, validate on 10000 samples\n",
      "Epoch 1/100\n",
      "50000/50000 [==============================] - 8s 167us/step - loss: 1.9288 - acc: 0.3030 - val_loss: 1.7899 - val_acc: 0.3593\n",
      "Epoch 2/100\n",
      "50000/50000 [==============================] - 7s 137us/step - loss: 1.7068 - acc: 0.3916 - val_loss: 1.7040 - val_acc: 0.3973\n",
      "Epoch 3/100\n",
      "50000/50000 [==============================] - 8s 158us/step - loss: 1.6115 - acc: 0.4237 - val_loss: 1.5913 - val_acc: 0.4442\n",
      "Epoch 4/100\n",
      "50000/50000 [==============================] - 8s 167us/step - loss: 1.5542 - acc: 0.4452 - val_loss: 1.5601 - val_acc: 0.4466\n",
      "Epoch 5/100\n",
      "50000/50000 [==============================] - 7s 139us/step - loss: 1.5016 - acc: 0.4652 - val_loss: 1.4740 - val_acc: 0.4792\n",
      "Epoch 6/100\n",
      "50000/50000 [==============================] - 8s 159us/step - loss: 1.4655 - acc: 0.4778 - val_loss: 1.5022 - val_acc: 0.4639\n",
      "Epoch 7/100\n",
      "50000/50000 [==============================] - 8s 156us/step - loss: 1.4270 - acc: 0.4901 - val_loss: 1.4754 - val_acc: 0.4720\n",
      "Epoch 8/100\n",
      "50000/50000 [==============================] - 8s 154us/step - loss: 1.4111 - acc: 0.4974 - val_loss: 1.4579 - val_acc: 0.4736\n",
      "Epoch 9/100\n",
      "50000/50000 [==============================] - 7s 140us/step - loss: 1.3807 - acc: 0.5098 - val_loss: 1.4357 - val_acc: 0.4930\n",
      "Epoch 10/100\n",
      "50000/50000 [==============================] - 8s 155us/step - loss: 1.3482 - acc: 0.5184 - val_loss: 1.4168 - val_acc: 0.4980\n",
      "Epoch 11/100\n",
      "50000/50000 [==============================] - 10s 206us/step - loss: 1.3307 - acc: 0.5260 - val_loss: 1.4133 - val_acc: 0.5001\n",
      "Epoch 12/100\n",
      "50000/50000 [==============================] - 8s 154us/step - loss: 1.3103 - acc: 0.5332 - val_loss: 1.4801 - val_acc: 0.4821\n",
      "Epoch 13/100\n",
      "50000/50000 [==============================] - 7s 136us/step - loss: 1.2898 - acc: 0.5417 - val_loss: 1.4460 - val_acc: 0.4836\n",
      "Epoch 14/100\n",
      "50000/50000 [==============================] - 7s 134us/step - loss: 1.2631 - acc: 0.5479 - val_loss: 1.3735 - val_acc: 0.5143\n",
      "Epoch 15/100\n",
      "50000/50000 [==============================] - 7s 146us/step - loss: 1.2247 - acc: 0.5652 - val_loss: 1.3828 - val_acc: 0.5138\n",
      "Epoch 16/100\n",
      "50000/50000 [==============================] - 7s 140us/step - loss: 1.2136 - acc: 0.5680 - val_loss: 1.3878 - val_acc: 0.5141\n",
      "Epoch 17/100\n",
      "50000/50000 [==============================] - 7s 146us/step - loss: 1.1906 - acc: 0.5765 - val_loss: 1.4146 - val_acc: 0.5019\n",
      "Epoch 18/100\n",
      "50000/50000 [==============================] - 7s 146us/step - loss: 1.1756 - acc: 0.5813 - val_loss: 1.3544 - val_acc: 0.5244\n",
      "Epoch 19/100\n",
      "50000/50000 [==============================] - 7s 146us/step - loss: 1.1501 - acc: 0.5905 - val_loss: 1.3827 - val_acc: 0.5165\n",
      "Epoch 20/100\n",
      "50000/50000 [==============================] - 7s 149us/step - loss: 1.1340 - acc: 0.5950 - val_loss: 1.3762 - val_acc: 0.5173\n",
      "Epoch 21/100\n",
      "50000/50000 [==============================] - 7s 136us/step - loss: 1.1206 - acc: 0.6000 - val_loss: 1.3881 - val_acc: 0.5159\n",
      "Epoch 22/100\n",
      "50000/50000 [==============================] - 7s 147us/step - loss: 1.0941 - acc: 0.6091 - val_loss: 1.3841 - val_acc: 0.5224\n",
      "Epoch 23/100\n",
      "50000/50000 [==============================] - 7s 137us/step - loss: 1.0711 - acc: 0.6174 - val_loss: 1.3650 - val_acc: 0.5267\n",
      "Epoch 24/100\n",
      "50000/50000 [==============================] - 7s 134us/step - loss: 1.0501 - acc: 0.6252 - val_loss: 1.4196 - val_acc: 0.5118\n",
      "Epoch 25/100\n",
      "50000/50000 [==============================] - 8s 152us/step - loss: 1.0426 - acc: 0.6274 - val_loss: 1.4140 - val_acc: 0.5181\n",
      "Epoch 26/100\n",
      "50000/50000 [==============================] - 7s 143us/step - loss: 1.0127 - acc: 0.6399 - val_loss: 1.4802 - val_acc: 0.5054\n",
      "Epoch 27/100\n",
      "50000/50000 [==============================] - 7s 134us/step - loss: 0.9975 - acc: 0.6434 - val_loss: 1.4142 - val_acc: 0.5195\n",
      "Epoch 28/100\n",
      "50000/50000 [==============================] - 6s 129us/step - loss: 0.9663 - acc: 0.6574 - val_loss: 1.4167 - val_acc: 0.5263\n",
      "Epoch 29/100\n",
      "50000/50000 [==============================] - 7s 149us/step - loss: 0.9678 - acc: 0.6527 - val_loss: 1.4488 - val_acc: 0.5246\n",
      "Epoch 30/100\n",
      "50000/50000 [==============================] - 7s 132us/step - loss: 0.9441 - acc: 0.6644 - val_loss: 1.4288 - val_acc: 0.5234\n",
      "Epoch 31/100\n",
      "50000/50000 [==============================] - 7s 140us/step - loss: 0.9220 - acc: 0.6711 - val_loss: 1.4572 - val_acc: 0.5260\n",
      "Epoch 32/100\n",
      "50000/50000 [==============================] - 7s 149us/step - loss: 0.9017 - acc: 0.6792 - val_loss: 1.4469 - val_acc: 0.5346\n",
      "Epoch 33/100\n",
      "50000/50000 [==============================] - 11s 213us/step - loss: 0.8930 - acc: 0.6831 - val_loss: 1.4645 - val_acc: 0.5265\n",
      "Epoch 34/100\n",
      "50000/50000 [==============================] - 8s 163us/step - loss: 0.8715 - acc: 0.6869 - val_loss: 1.5078 - val_acc: 0.5171\n",
      "Epoch 35/100\n",
      "50000/50000 [==============================] - 8s 151us/step - loss: 0.8558 - acc: 0.6935 - val_loss: 1.5083 - val_acc: 0.5205\n",
      "Epoch 36/100\n",
      "50000/50000 [==============================] - 8s 153us/step - loss: 0.8391 - acc: 0.7009 - val_loss: 1.4857 - val_acc: 0.5307\n",
      "Epoch 37/100\n",
      "50000/50000 [==============================] - 7s 145us/step - loss: 0.8308 - acc: 0.7042 - val_loss: 1.5316 - val_acc: 0.5193\n",
      "Epoch 38/100\n",
      "50000/50000 [==============================] - 7s 149us/step - loss: 0.8115 - acc: 0.7112 - val_loss: 1.5446 - val_acc: 0.5225\n",
      "Epoch 39/100\n",
      "50000/50000 [==============================] - 8s 163us/step - loss: 0.7873 - acc: 0.7210 - val_loss: 1.5400 - val_acc: 0.5270\n",
      "Epoch 40/100\n",
      "50000/50000 [==============================] - 8s 162us/step - loss: 0.7735 - acc: 0.7242 - val_loss: 1.5625 - val_acc: 0.5245\n",
      "Epoch 41/100\n",
      "50000/50000 [==============================] - 8s 151us/step - loss: 0.7661 - acc: 0.7256 - val_loss: 1.6016 - val_acc: 0.5129\n",
      "Epoch 42/100\n",
      "50000/50000 [==============================] - 8s 153us/step - loss: 0.7437 - acc: 0.7365 - val_loss: 1.6005 - val_acc: 0.5251\n",
      "Epoch 43/100\n",
      "50000/50000 [==============================] - 8s 168us/step - loss: 0.7286 - acc: 0.7396 - val_loss: 1.6140 - val_acc: 0.5231\n",
      "Epoch 44/100\n",
      "50000/50000 [==============================] - 7s 148us/step - loss: 0.7136 - acc: 0.7453 - val_loss: 1.6677 - val_acc: 0.5126\n",
      "Epoch 45/100\n",
      "50000/50000 [==============================] - 7s 142us/step - loss: 0.6969 - acc: 0.7512 - val_loss: 1.7335 - val_acc: 0.5101\n",
      "Epoch 46/100\n",
      "50000/50000 [==============================] - 7s 147us/step - loss: 0.6890 - acc: 0.7546 - val_loss: 1.7355 - val_acc: 0.5166\n",
      "Epoch 47/100\n",
      "50000/50000 [==============================] - 7s 133us/step - loss: 0.6761 - acc: 0.7601 - val_loss: 1.7386 - val_acc: 0.5120\n",
      "Epoch 48/100\n",
      "50000/50000 [==============================] - 7s 140us/step - loss: 0.6560 - acc: 0.7651 - val_loss: 1.8110 - val_acc: 0.5134\n",
      "Epoch 49/100\n",
      "50000/50000 [==============================] - 7s 143us/step - loss: 0.6561 - acc: 0.7636 - val_loss: 1.7385 - val_acc: 0.5239\n",
      "Epoch 50/100\n",
      "50000/50000 [==============================] - 8s 154us/step - loss: 0.6249 - acc: 0.7780 - val_loss: 1.7825 - val_acc: 0.5227\n",
      "Epoch 51/100\n",
      "50000/50000 [==============================] - 9s 172us/step - loss: 0.6243 - acc: 0.7779 - val_loss: 1.8030 - val_acc: 0.5202\n",
      "Epoch 52/100\n",
      "50000/50000 [==============================] - 8s 170us/step - loss: 0.6050 - acc: 0.7850 - val_loss: 1.8143 - val_acc: 0.5172\n",
      "Epoch 53/100\n",
      "50000/50000 [==============================] - 7s 148us/step - loss: 0.5996 - acc: 0.7875 - val_loss: 1.8554 - val_acc: 0.5126\n",
      "Epoch 54/100\n",
      "50000/50000 [==============================] - 8s 153us/step - loss: 0.5949 - acc: 0.7863 - val_loss: 1.8620 - val_acc: 0.5169\n",
      "Epoch 55/100\n",
      "50000/50000 [==============================] - 8s 152us/step - loss: 0.5680 - acc: 0.7959 - val_loss: 1.8959 - val_acc: 0.5191\n",
      "Epoch 56/100\n",
      "50000/50000 [==============================] - 8s 154us/step - loss: 0.5644 - acc: 0.7984 - val_loss: 1.9073 - val_acc: 0.5202\n",
      "Epoch 57/100\n",
      "50000/50000 [==============================] - 8s 150us/step - loss: 0.5454 - acc: 0.8048 - val_loss: 1.9701 - val_acc: 0.5111\n",
      "Epoch 58/100\n",
      "50000/50000 [==============================] - 8s 151us/step - loss: 0.5307 - acc: 0.8120 - val_loss: 2.0302 - val_acc: 0.5209\n",
      "Epoch 59/100\n"
     ]
    },
    {
     "name": "stdout",
     "output_type": "stream",
     "text": [
      "50000/50000 [==============================] - 7s 141us/step - loss: 0.5226 - acc: 0.8140 - val_loss: 2.0129 - val_acc: 0.5180\n",
      "Epoch 60/100\n",
      "50000/50000 [==============================] - 8s 151us/step - loss: 0.5239 - acc: 0.8111 - val_loss: 2.0261 - val_acc: 0.5171\n",
      "Epoch 61/100\n",
      "50000/50000 [==============================] - 7s 146us/step - loss: 0.5040 - acc: 0.8173 - val_loss: 2.0665 - val_acc: 0.5157\n",
      "Epoch 62/100\n",
      "50000/50000 [==============================] - 7s 150us/step - loss: 0.4980 - acc: 0.8224 - val_loss: 2.0850 - val_acc: 0.5169\n",
      "Epoch 63/100\n",
      "50000/50000 [==============================] - 7s 132us/step - loss: 0.4938 - acc: 0.8212 - val_loss: 2.1486 - val_acc: 0.5094\n",
      "Epoch 64/100\n",
      "50000/50000 [==============================] - 7s 131us/step - loss: 0.4838 - acc: 0.8272 - val_loss: 2.1648 - val_acc: 0.5095\n",
      "Epoch 65/100\n",
      "50000/50000 [==============================] - 7s 130us/step - loss: 0.4913 - acc: 0.8239 - val_loss: 2.1760 - val_acc: 0.5161\n",
      "Epoch 66/100\n",
      "50000/50000 [==============================] - 7s 145us/step - loss: 0.4726 - acc: 0.8299 - val_loss: 2.2222 - val_acc: 0.5133\n",
      "Epoch 67/100\n",
      "50000/50000 [==============================] - 8s 169us/step - loss: 0.4572 - acc: 0.8351 - val_loss: 2.2621 - val_acc: 0.5127\n",
      "Epoch 68/100\n",
      "50000/50000 [==============================] - 7s 132us/step - loss: 0.4491 - acc: 0.8385 - val_loss: 2.2917 - val_acc: 0.5117\n",
      "Epoch 69/100\n",
      "50000/50000 [==============================] - 7s 144us/step - loss: 0.4518 - acc: 0.8367 - val_loss: 2.2534 - val_acc: 0.5143\n",
      "Epoch 70/100\n",
      "50000/50000 [==============================] - 7s 133us/step - loss: 0.4250 - acc: 0.8507 - val_loss: 2.3164 - val_acc: 0.5094\n",
      "Epoch 71/100\n",
      "50000/50000 [==============================] - 7s 133us/step - loss: 0.4158 - acc: 0.8512 - val_loss: 2.3924 - val_acc: 0.5051\n",
      "Epoch 72/100\n",
      "50000/50000 [==============================] - 7s 146us/step - loss: 0.4237 - acc: 0.8479 - val_loss: 2.3856 - val_acc: 0.5141\n",
      "Epoch 73/100\n",
      "50000/50000 [==============================] - 6s 128us/step - loss: 0.4205 - acc: 0.8480 - val_loss: 2.4581 - val_acc: 0.4978\n",
      "Epoch 74/100\n",
      "50000/50000 [==============================] - 7s 132us/step - loss: 0.4253 - acc: 0.8476 - val_loss: 2.4200 - val_acc: 0.5036\n",
      "Epoch 75/100\n",
      "50000/50000 [==============================] - 7s 138us/step - loss: 0.4097 - acc: 0.8530 - val_loss: 2.4536 - val_acc: 0.5171\n",
      "Epoch 76/100\n",
      "50000/50000 [==============================] - 7s 132us/step - loss: 0.3934 - acc: 0.8600 - val_loss: 2.4491 - val_acc: 0.5148\n",
      "Epoch 77/100\n",
      "50000/50000 [==============================] - 7s 131us/step - loss: 0.3883 - acc: 0.8611 - val_loss: 2.5396 - val_acc: 0.5053\n",
      "Epoch 78/100\n",
      "50000/50000 [==============================] - 7s 135us/step - loss: 0.3985 - acc: 0.8556 - val_loss: 2.5771 - val_acc: 0.5047\n",
      "Epoch 79/100\n",
      "50000/50000 [==============================] - 7s 149us/step - loss: 0.3824 - acc: 0.8623 - val_loss: 2.5338 - val_acc: 0.5122\n",
      "Epoch 80/100\n",
      "50000/50000 [==============================] - 7s 147us/step - loss: 0.3756 - acc: 0.8656 - val_loss: 2.5752 - val_acc: 0.4931\n",
      "Epoch 81/100\n",
      "50000/50000 [==============================] - 9s 177us/step - loss: 0.3482 - acc: 0.8751 - val_loss: 2.5594 - val_acc: 0.5139\n",
      "Epoch 82/100\n",
      "50000/50000 [==============================] - 9s 171us/step - loss: 0.3617 - acc: 0.8701 - val_loss: 2.6969 - val_acc: 0.5068\n",
      "Epoch 83/100\n",
      "50000/50000 [==============================] - 8s 158us/step - loss: 0.3749 - acc: 0.8651 - val_loss: 2.7340 - val_acc: 0.5045\n",
      "Epoch 84/100\n",
      "50000/50000 [==============================] - 8s 156us/step - loss: 0.3357 - acc: 0.8790 - val_loss: 2.7641 - val_acc: 0.5073\n",
      "Epoch 85/100\n",
      "50000/50000 [==============================] - 7s 135us/step - loss: 0.3396 - acc: 0.8788 - val_loss: 2.7494 - val_acc: 0.5112\n",
      "Epoch 86/100\n",
      "50000/50000 [==============================] - 7s 140us/step - loss: 0.3310 - acc: 0.8811 - val_loss: 2.7597 - val_acc: 0.5109\n",
      "Epoch 87/100\n",
      "50000/50000 [==============================] - 7s 140us/step - loss: 0.3355 - acc: 0.8792 - val_loss: 2.8027 - val_acc: 0.5022\n",
      "Epoch 88/100\n",
      "50000/50000 [==============================] - 7s 134us/step - loss: 0.3348 - acc: 0.8804 - val_loss: 2.7829 - val_acc: 0.5073\n",
      "Epoch 89/100\n",
      "50000/50000 [==============================] - 8s 157us/step - loss: 0.3504 - acc: 0.8756 - val_loss: 2.7394 - val_acc: 0.5083\n",
      "Epoch 90/100\n",
      "50000/50000 [==============================] - 8s 153us/step - loss: 0.3133 - acc: 0.8877 - val_loss: 2.8058 - val_acc: 0.5121\n",
      "Epoch 91/100\n",
      "50000/50000 [==============================] - 7s 131us/step - loss: 0.3265 - acc: 0.8830 - val_loss: 2.9885 - val_acc: 0.5062\n",
      "Epoch 92/100\n",
      "50000/50000 [==============================] - 7s 148us/step - loss: 0.3114 - acc: 0.8878 - val_loss: 2.8728 - val_acc: 0.5061\n",
      "Epoch 93/100\n",
      "50000/50000 [==============================] - 7s 133us/step - loss: 0.3305 - acc: 0.8794 - val_loss: 2.8856 - val_acc: 0.5138\n",
      "Epoch 94/100\n",
      "50000/50000 [==============================] - 8s 154us/step - loss: 0.2892 - acc: 0.8961 - val_loss: 2.8879 - val_acc: 0.5059\n",
      "Epoch 95/100\n",
      "50000/50000 [==============================] - 7s 141us/step - loss: 0.3070 - acc: 0.8905 - val_loss: 2.9329 - val_acc: 0.4989\n",
      "Epoch 96/100\n",
      "50000/50000 [==============================] - 8s 154us/step - loss: 0.3029 - acc: 0.8904 - val_loss: 2.9757 - val_acc: 0.5090\n",
      "Epoch 97/100\n",
      "50000/50000 [==============================] - 7s 142us/step - loss: 0.2930 - acc: 0.8939 - val_loss: 2.9866 - val_acc: 0.5071\n",
      "Epoch 98/100\n",
      "50000/50000 [==============================] - 7s 142us/step - loss: 0.2864 - acc: 0.8965 - val_loss: 3.0284 - val_acc: 0.5087\n",
      "Epoch 99/100\n",
      "50000/50000 [==============================] - 7s 146us/step - loss: 0.2852 - acc: 0.8972 - val_loss: 3.0178 - val_acc: 0.5054\n",
      "Epoch 100/100\n",
      "50000/50000 [==============================] - 8s 161us/step - loss: 0.3068 - acc: 0.8883 - val_loss: 3.0674 - val_acc: 0.5014\n"
     ]
    },
    {
     "data": {
      "text/plain": [
       "<keras.callbacks.History at 0xb44d43940>"
      ]
     },
     "execution_count": 6,
     "metadata": {},
     "output_type": "execute_result"
    }
   ],
   "source": [
    "# 訓練模型並檢視驗證集的結果\n",
    "model.fit(x_train, y_train, \n",
    "          epochs=100, \n",
    "          batch_size=256, \n",
    "          validation_data=(x_test, y_test), \n",
    "          shuffle=True)"
   ]
  },
  {
   "cell_type": "code",
   "execution_count": 9,
   "metadata": {},
   "outputs": [
    {
     "data": {
      "image/png": "[encoded data removed]",
      "text/plain": [
       "<Figure size 432x288 with 1 Axes>"
      ]
     },
     "metadata": {
      "needs_background": "light"
     },
     "output_type": "display_data"
    },
    {
     "data": {
      "image/png": "[encoded data removed]",
      "text/plain": [
       "<Figure size 432x288 with 1 Axes>"
      ]
     },
     "metadata": {
      "needs_background": "light"
     },
     "output_type": "display_data"
    }
   ],
   "source": [
    "# 以視覺畫方式檢視訓練過程\n",
    "import matplotlib.pyplot as plt\n",
    "%matplotlib inline\n",
    "\n",
    "train_loss = model.history.history[\"loss\"]\n",
    "valid_loss = model.history.history[\"val_loss\"]\n",
    "\n",
    "train_acc = model.history.history[\"acc\"]\n",
    "valid_acc = model.history.history[\"val_acc\"]\n",
    "\n",
    "plt.plot(range(len(train_loss)), train_loss, label=\"train loss\")\n",
    "plt.plot(range(len(valid_loss)), valid_loss, label=\"valid loss\")\n",
    "plt.legend()\n",
    "plt.title(\"Loss\")\n",
    "plt.show()\n",
    "\n",
    "plt.plot(range(len(train_acc)), train_acc, label=\"train accuracy\")\n",
    "plt.plot(range(len(valid_acc)), valid_acc, label=\"valid accuracy\")\n",
    "plt.legend()\n",
    "plt.title(\"Accuracy\")\n",
    "plt.show()"
   ]
  },
  {
   "cell_type": "markdown",
   "metadata": {},
   "source": [
    "## 作業\n",
    "1. 請將 Epoch 加到 500 個，並觀察 learning curve 的走勢\n",
    "2. 請將 Optimizer 換成 SGD，並觀察 learning curve 的走勢"
   ]
  }
 ],
 "metadata": {
  "kernelspec": {
   "display_name": "Python 3",
   "language": "python",
   "name": "python3"
  },
  "language_info": {
   "codemirror_mode": {
    "name": "ipython",
    "version": 3
   },
   "file_extension": ".py",
   "mimetype": "text/x-python",
   "name": "python",
   "nbconvert_exporter": "python",
   "pygments_lexer": "ipython3",
   "version": "3.7.3"
  }
 },
 "nbformat": 4,
 "nbformat_minor": 2
}
