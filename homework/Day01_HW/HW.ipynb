{
 "cells": [
  {
   "cell_type": "markdown",
   "metadata": {},
   "source": [
    "作業1：\n",
    "請上 Kaggle, 在 Competitions 或 Dataset 中找一組競賽或資料並寫下：\n",
    "\n",
    "1. 你選的這組資料為何重要\n",
    "B 企業核心問題\n",
    "\n",
    "2. 資料從何而來 (tips: 譬如提供者是誰、以什麼方式蒐集)\n",
    "daily sales data, kindly provided by one of the largest Russian software firms- 1C company\n",
    "\n",
    "3. 蒐集而來的資料型態為何\n",
    "結構化資料 表格\n",
    "\n",
    "4. 這組資料想解決的問題如何評估\n",
    "predict total sales for every product and store in the next month. \n",
    "Submissions are evaluated by root mean squared error (RMSE)."
   ]
  },
  {
   "cell_type": "markdown",
   "metadata": {},
   "source": [
    "作業2：\n",
    "想像你經營一個自由載客車隊，你希望能透過數據分析以提升業績，請你思考並描述你如何規劃整體的分析/解決方案：\n",
    "\n",
    "1. 核心問題為何 (tips：如何定義 「提升業績 & 你的假設」)\n",
    "預測搭車客人位置，最快足夠派車輛到指定區域，用以減少空車，增加載客率\n",
    "\n",
    "2. 資料從何而來 (tips：哪些資料可能會對你想問的問題產生影響 & 資料如何蒐集)\n",
    "透過叫車App收集客人位置，叫車時間\n",
    "透過司機的App收集司機位置、空車時間及載客時間及其資訊\n",
    "\n",
    "3. 蒐集而來的資料型態為何\n",
    "結構化資料，表格\n",
    "\n",
    "4. 你要回答的問題，其如何評估 (tips：你的假設如何驗證)\n",
    "客人叫車平均等待時間是否減少\n",
    "司機平均空車時間是否減少"
   ]
  }
 ],
 "metadata": {
  "kernelspec": {
   "display_name": "Python 3",
   "language": "python",
   "name": "python3"
  },
  "language_info": {
   "codemirror_mode": {
    "name": "ipython",
    "version": 3
   },
   "file_extension": ".py",
   "mimetype": "text/x-python",
   "name": "python",
   "nbconvert_exporter": "python",
   "pygments_lexer": "ipython3",
   "version": "3.7.3"
  }
 },
 "nbformat": 4,
 "nbformat_minor": 2
}
